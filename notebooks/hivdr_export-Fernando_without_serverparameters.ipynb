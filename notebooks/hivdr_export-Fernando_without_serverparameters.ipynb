{
 "cells": [
  {
   "cell_type": "code",
   "execution_count": 386,
   "metadata": {},
   "outputs": [],
   "source": [
    "import sys as sys\n",
    "sys.path.append('C:/Users/Fernando-Bluesquare/Desktop/Data Science/data_pipelines-master/src')\n",
    "\n",
    "import re\n",
    "import audit.dhis as dhis \n",
    "import audit.completeness as cplt\n",
    "import processing.data_process as dp\n",
    "from processing.data_aggregation_process import *\n",
    "import pandas as pd\n",
    "import psycopg2 as pypg\n"
   ]
  },
  {
   "cell_type": "code",
   "execution_count": 3,
   "metadata": {},
   "outputs": [],
   "source": [
    "%load_ext autoreload\n",
    "%autoreload 2"
   ]
  },
  {
   "cell_type": "code",
   "execution_count": 354,
   "metadata": {},
   "outputs": [],
   "source": [
    "hivdr = dhis.dhis_instance(dbname, user, host, psswrd)"
   ]
  },
  {
   "cell_type": "markdown",
   "metadata": {},
   "source": [
    "### Build the total number of patients"
   ]
  },
  {
   "cell_type": "code",
   "execution_count": 24,
   "metadata": {},
   "outputs": [],
   "source": [
    "# We filter to get a list of matching data names and corresponding uids for the two sources, in the form of the json that we're going to use later on\n",
    "\n",
    "art_pnls=['PNLS-DRUG-ABC + 3TC + EFV','PNLS-DRUG-ABC + 3TC + EFV sex','PNLS-DRUG-ABC + 3TC + LPV/r','PNLS-DRUG-ABC + 3TC + LPV/r sex','PNLS-DRUG-ABC + 3TC + NVP',\n",
    "              'PNLS-DRUG-ABC + 3TC + NVP sex', 'PNLS-DRUG-AZT + 3TC + LPV/r', 'PNLS-DRUG-AZT + 3TC + LPV/r sex','PNLS-DRUG-AZT+3TC+EFV', 'PNLS-DRUG-AZT+3TC+EFV sex',\n",
    "              'PNLS-DRUG-AZT+3TC+NVP', 'PNLS-DRUG-AZT+3TC+NVP sex','PNLS-DRUG-TDF + 3TC + LPV/r', 'PNLS-DRUG-TDF + 3TC + LPV/r sex', 'PNLS-DRUG-TDF + FTC + NVP', \n",
    "              'PNLS-DRUG-TDF + FTC + NVP sex','PNLS-DRUG-TDF+ FTC + EFV', 'PNLS-DRUG-TDF+ FTC + EFV sex', 'PNLS-DRUG-TDF+3TC+EFV sex', 'PNLS-DRUG-TDF+3TC+NVP sex','PNLS-DRUG-Autres (à préciser)',\n",
    "              'PNLS-DRUG-Autres (à préciser) sex']\n",
    "\n",
    "art_cordaid = ['ABC + 3TC + EFV', 'ABC + 3TC + LPV/r', 'ABC + 3TC + NVP', 'Autres (à préciser)', 'AZT + 3TC + LPV/r', 'AZT+3TC+ EFV',\n",
    "                 'AZT+3TC+NVP', 'TDF + 3TC + LPV/r', 'TDF + FTC + NVP', 'TDF+ FTC + EFV', 'TDF+3TC+EFV', 'TDF+3TC+NVP', 'TDF+FTC+LPV+rt']\n",
    "\n",
    "art_pnls_withoutpre=[datel[10:] for datel in art_pnls]\n",
    "\n",
    "datavar_json={}\n",
    "for datel in art_cordaid:\n",
    "    \n",
    "    pnls_el=[str('PNLS-DRUG-')+ str(matchel) for matchel in art_pnls_withoutpre if ((str(datel) in matchel) and ('sex' in matchel)) ]\n",
    "    \n",
    "    if len(pnls_el) >0:\n",
    "        pnls_el=pnls_el[0]\n",
    "    else:\n",
    "        pnls_el=None\n",
    "        \n",
    "    dict_row= {'sources':{'cordaid':{'elementname':str(datel),'cat_filter':None},'pnls':{'elementname':pnls_el,'cat_filter':None}},'preferred_source':'cordaid','methods':{'last':'quarterly'}}\n",
    "    datavar_json.update({str(datel):dict_row})\n",
    "    \n",
    "    \n",
    "datavar_json['AZT+3TC+ EFV']['sources']['pnls']['elementname']='PNLS-DRUG-AZT+3TC+EFV sex'"
   ]
  },
  {
   "cell_type": "code",
   "execution_count": 25,
   "metadata": {},
   "outputs": [],
   "source": [
    "for key in datavar_json.keys():\n",
    "    for source in datavar_json[str(key)]['sources'].keys():\n",
    "        if datavar_json[str(key)]['sources'][str(source)]['elementname']:\n",
    "            datavar_json[str(key)]['sources'][str(source)]['uid']=hivdr.dataelement.query('name==\"'+datavar_json[str(key)]['sources'][str(source)]['elementname']+'\"')['uid'].iloc[0]"
   ]
  },
  {
   "cell_type": "code",
   "execution_count": 26,
   "metadata": {},
   "outputs": [],
   "source": [
    "datavar_json['Patients HIV']= {\n",
    "                                        'sources':{\n",
    "                                                   'cordaid':{'elementname':'Nombre de patients encore sous TARV dans la structure',\n",
    "                                                                'uid':'Yj8caUQs178',\n",
    "                                                              'cat_filter':'Anciens cas'\n",
    "                                                            },\n",
    "                                                    'pnls':{'elementname':'PNLS-ARV-Patients encoresous TARV dans la structure',\n",
    "                                                                'uid':'Dd2G5zI0o0a',\n",
    "                                                                'cat_filter':'AC'\n",
    "                                                           }\n",
    "                                                  },\n",
    "                                        'preferred_source':'cordaid',\n",
    "                                        'methods':{\n",
    "                                                    'last':'quarterly'\n",
    "                                                    }\n",
    "                                        }"
   ]
  },
  {
   "cell_type": "code",
   "execution_count": 17,
   "metadata": {},
   "outputs": [],
   "source": [
    "def json_to_dict_df(datavar_json,reconcile_only=False):\n",
    "    from objectpath import Tree\n",
    "    import pandas as pd\n",
    "    \n",
    "    jsonTree=Tree(datavar_json)\n",
    "    renconcile_dict={}\n",
    "    dict_of_df={}\n",
    "    for dataelement in jsonTree.execute('$*').keys():\n",
    "    #Creation of db\n",
    "\n",
    "        data_united_df=pd.DataFrame()\n",
    "        for dbsource in jsonTree.execute('$*[\"'+str(dataelement)+'\"].sources').keys():\n",
    "            uid_element=jsonTree.execute('$*[\"'+str(dataelement)+'\"].sources[\"'+str(dbsource)+'\"].uid')\n",
    "            if uid_element:\n",
    "                \n",
    "                df = hivdr.get_data(jsonTree.execute('$*[\"'+str(dataelement)+'\"].sources[\"'+str(dbsource)+'\"].uid'))\n",
    "                df['value'] = pd.to_numeric(df['value'],'integer')\n",
    "                cat_filter= jsonTree.execute('$*[\"'+str(dataelement)+'\"].sources[\"'+str(dbsource)+'\"].cat_filter')\n",
    "                                         \n",
    "                if cat_filter:\n",
    "                    df_filter = df.catcomboname.str.contains(cat_filter)\n",
    "                    df_agg = (df[df_filter][['value', 'monthly', 'dataelementid', 'uidorgunit', 'enddate']]\n",
    "                                     .groupby(by=['uidorgunit', 'dataelementid', 'monthly', 'enddate']).sum().reset_index()\n",
    "                              )\n",
    "                else:\n",
    "                    df_agg = (df[['value', 'monthly', 'dataelementid', 'uidorgunit', 'enddate']]\n",
    "                                     .groupby(by=['uidorgunit', 'dataelementid', 'monthly', 'enddate']).sum().reset_index()\n",
    "                              )\n",
    "            \n",
    "                df_agg['source']=dbsource\n",
    "        \n",
    "                data_united_df=data_united_df.append(df_agg)\n",
    "        \n",
    "        reconcile_element_dict={}\n",
    "    \n",
    "    \n",
    "        def reconcilegroupby(groupdf):\n",
    "            subreconcile_dict={}\n",
    "            for dbsource in jsonTree.execute('$*[\"'+str(dataelement)+'\"].sources').keys():\n",
    "                orgdict={dbsource:groupdf.query('source==\"'+str(dbsource)+'\"')}\n",
    "                subreconcile_dict.update(orgdict)\n",
    "                \n",
    "            reconcile_element_dict[str(groupdf.name)]=subreconcile_dict\n",
    "            \n",
    "            reconcile_subdf= dp.measured_serie(subreconcile_dict, 'stock', jsonTree.execute('$*[\"'+str(dataelement)+'\"].preferred_source'))\n",
    "            reconcile_subdf.reconcile_series()\n",
    "            return reconcile_subdf.preferred_serie\n",
    "    \n",
    "    \n",
    "        reconcile_element_df=data_united_df.groupby(by=['uidorgunit']).apply(reconcilegroupby).reset_index(drop=True)\n",
    "        \n",
    "        if not reconcile_only:\n",
    "            renconcile_dict[str(dataelement)]={'data_element_dict':reconcile_element_dict,'data_element_reconciledf':reconcile_element_df}\n",
    "        else:\n",
    "            renconcile_dict[str(dataelement)]=reconcile_element_df\n",
    "            \n",
    "    return renconcile_dict\n"
   ]
  },
  {
   "cell_type": "code",
   "execution_count": 18,
   "metadata": {},
   "outputs": [
    {
     "name": "stdout",
     "output_type": "stream",
     "text": [
      "Wall time: 10min 5s\n"
     ]
    }
   ],
   "source": [
    "%%time\n",
    "\n",
    "dict_df_patients=json_to_dict_df(datavar_json,reconcile_only=True)"
   ]
  },
  {
   "cell_type": "code",
   "execution_count": 35,
   "metadata": {},
   "outputs": [],
   "source": [
    "def process_agg(dict_df_patients,datavar_json,datelment_list=['value']):\n",
    "    from objectpath import Tree\n",
    "    jsonTree=Tree(datavar_json)\n",
    "    \n",
    "    dict_of_processed_df_patients={}\n",
    "    for element_key in dict_df_patients.keys():\n",
    "        methods_dict=jsonTree.execute('$*[\"'+str(element_key)+'\"].methods')\n",
    "        for method_key in methods_dict.keys():\n",
    "        \n",
    "            pro_df=processing(datanames_list=datelment_list,dat_df=dict_df_patients[element_key])\n",
    "            processed_df=aggregation(datel_list=datelment_list,df_data=pro_df,method=method_key,agg_period_type=methods_dict[method_key])\n",
    "            dict_of_processed_df_patients[str(element_key)]={str(method_key):processed_df}\n",
    "        \n",
    "    return dict_of_processed_df_patients"
   ]
  },
  {
   "cell_type": "code",
   "execution_count": 33,
   "metadata": {},
   "outputs": [
    {
     "name": "stderr",
     "output_type": "stream",
     "text": [
      "C:/Users/Fernando-Bluesquare/Desktop/Data Science/data_pipelines-master/src\\processing\\data_aggregation_process.py:83: SettingWithCopyWarning: \n",
      "A value is trying to be set on a copy of a slice from a DataFrame.\n",
      "Try using .loc[row_indexer,col_indexer] = value instead\n",
      "\n",
      "See the caveats in the documentation: http://pandas.pydata.org/pandas-docs/stable/indexing.html#indexing-view-versus-copy\n",
      "  data['monthly']=data.enddate.apply(month_assignment)\n",
      "C:/Users/Fernando-Bluesquare/Desktop/Data Science/data_pipelines-master/src\\processing\\data_aggregation_process.py:84: SettingWithCopyWarning: \n",
      "A value is trying to be set on a copy of a slice from a DataFrame.\n",
      "Try using .loc[row_indexer,col_indexer] = value instead\n",
      "\n",
      "See the caveats in the documentation: http://pandas.pydata.org/pandas-docs/stable/indexing.html#indexing-view-versus-copy\n",
      "  data['quarterly']=data.enddate.apply(quarter_assignment)\n"
     ]
    },
    {
     "name": "stdout",
     "output_type": "stream",
     "text": [
      "Wall time: 2min 26s\n"
     ]
    }
   ],
   "source": [
    "%%time\n",
    "dict_of_processed_df_patients=process_agg(dict_df_patients,datavar_json)"
   ]
  },
  {
   "cell_type": "code",
   "execution_count": 67,
   "metadata": {},
   "outputs": [],
   "source": [
    "element_creation_df=data_element_creation_csv(dict_of_processed_df_patients)\n",
    "element_creation_df.to_csv('./data_element_creation.csv',index=False,encoding ='utf-8')"
   ]
  },
  {
   "cell_type": "code",
   "execution_count": 85,
   "metadata": {},
   "outputs": [],
   "source": [
    "df_csv=output_csv(dict_of_processed_df_patients,hivdr)\n",
    "df_csv.to_csv('./data_values_df.csv',index=False,encoding ='utf-8')"
   ]
  },
  {
   "cell_type": "markdown",
   "metadata": {},
   "source": [
    "## Looking at stock outs"
   ]
  },
  {
   "cell_type": "code",
   "execution_count": 107,
   "metadata": {},
   "outputs": [],
   "source": [
    "r_exclude =['PNLS-DRUG-CTX 480 / 960 mg ces - Bt 500 ces', 'PNLS-DRUG-CTX 480 mg ces - Bt 1000 ces',\n",
    "             'PNLS-DRUG-Hepatitis, HBsAg, Determine Kit, 100 Tests','PNLS-DRUG-Hepatitis, HCV, Rapid Device, Serum/Plasma/Whole Blood, kit de 40 Tests',\n",
    "             'PNLS-DRUG-HIV 1/2, Double Check Gold, Kit de 100 test','PNLS-DRUG-HIV 1+2, Determine Complete, Kit de 100 tests',\n",
    "             'PNLS-DRUG-HIV 1+2, Uni-Gold HIV, Kit de 20 tests', 'PNLS-DRUG-INH 100 mg; 300 mg - Cés', 'PNLS-DRUG-INH 50mg/5 ml - Sol.Orale',\n",
    "             'PNLS-DRUG-Syphilis RPR Kit, kit de 100 Tests Determine syph','PNLS-DRUG-CTX 96 mg / ml - Inj']"
   ]
  },
  {
   "cell_type": "code",
   "execution_count": 108,
   "metadata": {},
   "outputs": [],
   "source": [
    "#Selection of Variables\n",
    "\n",
    "catlab_sources_dict={'SO':'Sortie','RS':'Nbr de jours RS','EN':'Entrée','SI':'Stock Initial'}\n",
    "datelemlist_sources_dict={}\n",
    "for key in catlab_sources_dict.keys():\n",
    "    c_cordaid = hivdr.dataelement[hivdr.dataelement.name.str.contains(str(key)+' -')]\n",
    "    cco = hivdr.categoryoptioncombo.categoryoptioncomboid[hivdr.categoryoptioncombo.name.str.contains(catlab_sources_dict[key])].iloc[0]\n",
    "    pnls_cco_uid = hivdr.categoryoptioncombo.uid[hivdr.categoryoptioncombo.name.str.contains(catlab_sources_dict[key])].iloc[0]\n",
    "    cc = hivdr.categorycombos_optioncombos.categorycomboid[hivdr.categorycombos_optioncombos.categoryoptioncomboid == cco].iloc[0]\n",
    "    c_pnls = hivdr.dataelement[hivdr.dataelement.categorycomboid == cc]\n",
    "    datelemlist_sources_dict[str(key)]={'cordaid':c_cordaid,'pnls':c_pnls,'pnls_uid':pnls_cco_uid} "
   ]
  },
  {
   "cell_type": "code",
   "execution_count": 109,
   "metadata": {},
   "outputs": [
    {
     "data": {
      "text/plain": [
       "dict_keys(['SO', 'RS', 'EN', 'SI'])"
      ]
     },
     "execution_count": 109,
     "metadata": {},
     "output_type": "execute_result"
    }
   ],
   "source": [
    "datelemlist_sources_dict.keys()"
   ]
  },
  {
   "cell_type": "code",
   "execution_count": 110,
   "metadata": {
    "scrolled": true
   },
   "outputs": [],
   "source": [
    "def initial_merge(datelemlist_sources_dict):\n",
    "    srce_dict=datelemlist_sources_dict\n",
    "    \n",
    "    for key in srce_dict.keys():\n",
    "\n",
    "        srce_dict[key]['cordaid']['stand_name']=srce_dict[key]['cordaid'].name.str.replace(str(key)+' -','')\n",
    "        srce_dict[key]['cordaid']['stand_name']=srce_dict[key]['cordaid'].stand_name.str.replace(' ','').str.lower()\n",
    "        srce_dict[key]['pnls']['stand_name']=srce_dict[key]['pnls'].name.str.replace(\" \",'')\n",
    "        srce_dict[key]['pnls']['stand_name']=srce_dict[key]['pnls'].stand_name.str.replace(\"PNLS-DRUG-\",'').str.lower()     \n",
    "        \n",
    "        srce_dict[key]['merge_dict_list']= srce_dict[key]['pnls'].merge(srce_dict[key]['cordaid'], on='stand_name', suffixes=['_pnls', '_cordaid'])\n",
    "\n",
    "        srce_dict[key]['pnls'].columns = ['uid_pnls', 'name_pnls', 'dataelementid_pnls' , 'categorycomboid_pnls', 'stand_name']\n",
    "        srce_dict[key]['cordaid'].columns = ['uid_cordaid', 'name_cordaid', 'dataelementid_cordaid' , 'categorycomboid_cordaid', 'stand_name']\n",
    "        \n",
    "    return srce_dict"
   ]
  },
  {
   "cell_type": "code",
   "execution_count": 111,
   "metadata": {},
   "outputs": [
    {
     "name": "stderr",
     "output_type": "stream",
     "text": [
      "C:\\Users\\Fernando-Bluesquare\\Anaconda3\\lib\\site-packages\\ipykernel_launcher.py:6: SettingWithCopyWarning: \n",
      "A value is trying to be set on a copy of a slice from a DataFrame.\n",
      "Try using .loc[row_indexer,col_indexer] = value instead\n",
      "\n",
      "See the caveats in the documentation: http://pandas.pydata.org/pandas-docs/stable/indexing.html#indexing-view-versus-copy\n",
      "  \n",
      "C:\\Users\\Fernando-Bluesquare\\Anaconda3\\lib\\site-packages\\ipykernel_launcher.py:7: SettingWithCopyWarning: \n",
      "A value is trying to be set on a copy of a slice from a DataFrame.\n",
      "Try using .loc[row_indexer,col_indexer] = value instead\n",
      "\n",
      "See the caveats in the documentation: http://pandas.pydata.org/pandas-docs/stable/indexing.html#indexing-view-versus-copy\n",
      "  import sys\n",
      "C:\\Users\\Fernando-Bluesquare\\Anaconda3\\lib\\site-packages\\ipykernel_launcher.py:8: SettingWithCopyWarning: \n",
      "A value is trying to be set on a copy of a slice from a DataFrame.\n",
      "Try using .loc[row_indexer,col_indexer] = value instead\n",
      "\n",
      "See the caveats in the documentation: http://pandas.pydata.org/pandas-docs/stable/indexing.html#indexing-view-versus-copy\n",
      "  \n",
      "C:\\Users\\Fernando-Bluesquare\\Anaconda3\\lib\\site-packages\\ipykernel_launcher.py:9: SettingWithCopyWarning: \n",
      "A value is trying to be set on a copy of a slice from a DataFrame.\n",
      "Try using .loc[row_indexer,col_indexer] = value instead\n",
      "\n",
      "See the caveats in the documentation: http://pandas.pydata.org/pandas-docs/stable/indexing.html#indexing-view-versus-copy\n",
      "  if __name__ == '__main__':\n"
     ]
    }
   ],
   "source": [
    "datelemlist_processed_sources_dict=initial_merge(datelemlist_sources_dict)"
   ]
  },
  {
   "cell_type": "code",
   "execution_count": 112,
   "metadata": {},
   "outputs": [
    {
     "name": "stderr",
     "output_type": "stream",
     "text": [
      "C:\\Users\\Fernando-Bluesquare\\Anaconda3\\lib\\site-packages\\ipykernel_launcher.py:9: UserWarning: This pattern has match groups. To actually get the groups, use str.extract.\n",
      "  if __name__ == '__main__':\n",
      "C:\\Users\\Fernando-Bluesquare\\Anaconda3\\lib\\site-packages\\ipykernel_launcher.py:10: UserWarning: This pattern has match groups. To actually get the groups, use str.extract.\n",
      "  # Remove the CWD from sys.path while we load stuff.\n",
      "C:\\Users\\Fernando-Bluesquare\\Anaconda3\\lib\\site-packages\\pandas\\core\\frame.py:6211: FutureWarning: Sorting because non-concatenation axis is not aligned. A future version\n",
      "of pandas will change to not sort by default.\n",
      "\n",
      "To accept the future behavior, pass 'sort=False'.\n",
      "\n",
      "To retain the current behavior and silence the warning, pass 'sort=True'.\n",
      "\n",
      "  sort=sort)\n"
     ]
    }
   ],
   "source": [
    "#Cases of missspelling to be included in the merge dataframe\n",
    "\n",
    "for key in datelemlist_processed_sources_dict.keys():\n",
    "    merge_list_df=datelemlist_processed_sources_dict[key]['merge_dict_list']\n",
    "    list_pnls=datelemlist_processed_sources_dict[key]['pnls']\n",
    "    list_cordaid=datelemlist_processed_sources_dict[key]['cordaid']\n",
    "    \n",
    "    for leftout in ['(200/50 mg)','(300/200 mg)','NVP 50 mg']:\n",
    "        pnls_leftout_values=list_pnls.drop('stand_name', axis=1)[list_pnls.name_pnls.str.contains(leftout)].reset_index(drop=True)\n",
    "        coraid_leftout_values=list_cordaid[list_cordaid.name_cordaid.str.contains(leftout)].reset_index(drop=True)\n",
    "        concat_row=pd.concat([pnls_leftout_values,coraid_leftout_values],axis=1)\n",
    "        merge_list_df = merge_list_df.append(concat_row)\n",
    "\n",
    "    datelemlist_processed_sources_dict[key]['merge_dict_list'] = merge_list_df[~merge_list_df.name_pnls.isin(r_exclude)]"
   ]
  },
  {
   "cell_type": "code",
   "execution_count": 115,
   "metadata": {},
   "outputs": [],
   "source": [
    "def get_hivdrable(de_id):\n",
    "    data = hivdr.get_data(de_id)\n",
    "    data = data[['dataelementid', 'monthly', 'uidorgunit', 'catcomboid', 'value']]\n",
    "    data.columns = ['dataElement' , 'monthly' , 'orgUnit' , 'categoryOptionCombo', 'value']\n",
    "    return data\n",
    "\n",
    "def datadf_into_meds_source_dict(processed_sources_df,pnls_stock_uid):\n",
    "    meds_dict ={}\n",
    "    for line in processed_sources_df.name_cordaid:\n",
    "        print(line)\n",
    "        id_cordaid = processed_sources_df.uid_cordaid[processed_sources_df.name_cordaid == line].iloc[0]\n",
    "        id_pnls = processed_sources_df.uid_pnls[processed_sources_df.name_cordaid == line].iloc[0]\n",
    "        cordaid_data = get_hivdrable(id_cordaid)\n",
    "        pnls_data = get_hivdrable(id_pnls)\n",
    "        pnls_data = pnls_data[pnls_data.categoryOptionCombo == pnls_stock_uid]\n",
    "        meds_dict[str(line)[5:]]={'cordaid':cordaid_data,'pnls':pnls_data}\n",
    "    return meds_dict"
   ]
  },
  {
   "cell_type": "code",
   "execution_count": 119,
   "metadata": {},
   "outputs": [
    {
     "name": "stdout",
     "output_type": "stream",
     "text": [
      "SO - 3TC 10 mg/ml solution orale - Fl. 240 ml\n",
      "SO - 3TC 150 mg - 60 ces\n",
      "SO - ABC 300 mg - 60 ces\n",
      "SO - ABC/3TC ( 300/150 mg) - 60 ces\n",
      "SO - ABC /3TC 60/30 mg disp. - 60ces\n",
      "SO - ABC 60 mg disp - 60 ces\n",
      "SO - AZT 300 mg - 60 ces\n",
      "SO - AZT/3TC (300/150 mg) - 60 ces\n",
      "SO - AZT/3TC 60/30 mg ces disp - 60ces\n",
      "SO - AZT/3TC/NVP (300/150/200 mg) - 60 ces\n",
      "SO - AZT/3TC/NVP 60/30/50 mg ces disp - 60 ces\n",
      "SO - EFV 600 mg - 30 ces\n",
      "SO - LPV/r 100/25 mg ces - 60 ces\n",
      "SO - LPV/r 80/20 mg/ml solution orale - Fl. 60 ml\n",
      "SO - LVP/r (133/33 mg) - 120 ces\n",
      "SO - NVP 200 mg - 60 ces\n",
      "SO - TDF 300 mg - 30 ces\n",
      "SO - TDF/3TC (300/300 mg) - 30 CES\n",
      "SO - TDF/3TC/EFV (300/300/600 mg) - 30 ces\n",
      "SO - LPV/r (200/50 mg) - 12O ces\n",
      "SO - TDF/FTC (300/200 mg) - 30 ces\n",
      "SO - NVP 50 mg ces pour solution orale - 60 Cés\n",
      "RS - 3TC 10 mg/ml solution orale - Fl. 240 ml\n",
      "RS - 3TC 150 mg - 60 ces\n",
      "RS - ABC 300 mg - 60 ces\n",
      "RS - ABC/3TC ( 300/150 mg) - 60 ces\n",
      "RS - ABC /3TC 60/30 mg disp. - 60ces\n",
      "RS - ABC 60 mg disp - 60 ces\n",
      "RS - AZT 300 mg - 60 ces\n",
      "RS - AZT/3TC (300/150 mg) - 60 ces\n",
      "RS - AZT/3TC 60/30 mg ces disp - 60ces\n",
      "RS - AZT/3TC/NVP (300/150/200 mg) - 60 ces\n",
      "RS - AZT/3TC/NVP 60/30/50 mg ces disp - 60 ces\n",
      "RS - EFV 600 mg - 30 ces\n",
      "RS - LPV/r 100/25 mg ces - 60 ces\n",
      "RS - LPV/r 80/20 mg/ml solution orale - Fl. 60 ml\n",
      "RS - LVP/r (133/33 mg) - 120 ces\n",
      "RS - NVP 200 mg - 60 ces\n",
      "RS - TDF 300 mg - 30 ces\n",
      "RS - TDF/3TC (300/300 mg) - 30 CES\n",
      "RS - TDF/3TC/EFV (300/300/600 mg) - 30 ces\n",
      "RS - LPV/r (200/50 mg) - 12O ces\n",
      "RS - TDF/FTC (300/200 mg) - 30 ces\n",
      "RS - NVP 50 mg ces pour solution orale - 60 Cés\n",
      "EN - 3TC 10 mg/ml solution orale - Fl. 240 ml\n",
      "EN - 3TC 150 mg - 60 ces\n",
      "EN - ABC 300 mg - 60 ces\n",
      "EN - ABC/3TC ( 300/150 mg) - 60 ces\n",
      "EN - ABC /3TC 60/30 mg disp. - 60ces\n",
      "EN - ABC 60 mg disp - 60 ces\n",
      "EN - AZT 300 mg - 60 ces\n",
      "EN - AZT/3TC (300/150 mg) - 60 ces\n",
      "EN - AZT/3TC 60/30 mg ces disp - 60ces\n",
      "EN - AZT/3TC/NVP (300/150/200 mg) - 60 ces\n",
      "EN - AZT/3TC/NVP 60/30/50 mg ces disp - 60 ces\n",
      "EN - EFV 600 mg - 30 ces\n",
      "EN - LPV/r 100/25 mg ces - 60 ces\n",
      "EN - LPV/r 80/20 mg/ml solution orale - Fl. 60 ml\n",
      "EN - LVP/r (133/33 mg) - 120 ces\n",
      "EN - NVP 200 mg - 60 ces\n",
      "EN - TDF 300 mg - 30 ces\n",
      "EN - TDF/3TC (300/300 mg) - 30 CES\n",
      "EN - TDF/3TC/EFV (300/300/600 mg) - 30 ces\n",
      "EN - LPV/r (200/50 mg) - 12O ces\n",
      "EN - TDF/FTC (300/200 mg) - 30 ces\n",
      "EN - NVP 50 mg ces pour solution orale - 60 Cés\n",
      "SI - 3TC 10 mg/ml solution orale - Fl. 240 ml\n",
      "SI - 3TC 150 mg - 60 ces\n",
      "SI - ABC 300 mg - 60 ces\n",
      "SI - ABC/3TC ( 300/150 mg) - 60 ces\n",
      "SI - ABC /3TC 60/30 mg disp. - 60ces\n",
      "SI - ABC 60 mg disp - 60 ces\n",
      "SI - AZT 300 mg - 60 ces\n",
      "SI - AZT/3TC (300/150 mg) - 60 ces\n",
      "SI - AZT/3TC 60/30 mg ces disp - 60ces\n",
      "SI - AZT/3TC/NVP (300/150/200 mg) - 60 ces\n",
      "SI - AZT/3TC/NVP 60/30/50 mg ces disp - 60 ces\n",
      "SI - EFV 600 mg - 30 ces\n",
      "SI - LPV/r 100/25 mg ces - 60 ces\n",
      "SI - LPV/r 80/20 mg/ml solution orale - Fl. 60 ml\n",
      "SI - LVP/r (133/33 mg) - 120 ces\n",
      "SI - NVP 200 mg - 60 ces\n",
      "SI - TDF 300 mg - 30 ces\n",
      "SI - TDF/3TC (300/300 mg) - 30 CES\n",
      "SI - TDF/3TC/EFV (300/300/600 mg) - 30 ces\n",
      "SI - LPV/r (200/50 mg) - 12O ces\n",
      "SI - TDF/FTC (300/200 mg) - 30 ces\n",
      "SI - NVP 50 mg ces pour solution orale - 60 Cés\n",
      "Wall time: 10min 39s\n"
     ]
    }
   ],
   "source": [
    "%%time\n",
    "large_meds_dict={}\n",
    "for key in datelemlist_processed_sources_dict.keys():\n",
    "    rs_meds_dict=datadf_into_meds_source_dict(datelemlist_processed_sources_dict[key]['merge_dict_list'],datelemlist_processed_sources_dict[key]['pnls_uid'])\n",
    "    large_meds_dict[str(key)]=rs_meds_dict"
   ]
  },
  {
   "cell_type": "code",
   "execution_count": 136,
   "metadata": {},
   "outputs": [],
   "source": [
    "\n",
    "import re\n",
    "\n",
    "def pills_per_package(line):\n",
    "    if re.search('[Cc][EeÉé][Ss]$',line):\n",
    "        line=line[-7:3]\n",
    "        line=re.sub('[Oo]|\" \"','', line)\n",
    "        return float(line)\n",
    "    else:\n",
    "        return None\n",
    "#Finally I didn't use this one part because a talk I had with Antoine \n",
    "\n",
    "def measurement_boxes(meds_label,datadf):\n",
    "    pppck=pills_per_package\n",
    "    if pppck:\n",
    "        datadf.value = pd.to_numeric(datadf.value)\n",
    "        datadf['boxes']=datadf.value/pppck\n",
    "    return datadf"
   ]
  },
  {
   "cell_type": "code",
   "execution_count": 142,
   "metadata": {},
   "outputs": [],
   "source": [
    "def reconcilegroupby(groupdf):\n",
    "    subreconcile_dict={}\n",
    "    for dbsource in ['cordaid','pnls']:\n",
    "        orgdict={dbsource:groupdf.query('source==\"'+str(dbsource)+'\"')}\n",
    "        subreconcile_dict.update(orgdict)\n",
    "            \n",
    "    reconcile_subdf= dp.measured_serie(subreconcile_dict, 'stock', 'cordaid')\n",
    "    reconcile_subdf.reconcile_series()\n",
    "    return reconcile_subdf.preferred_serie"
   ]
  },
  {
   "cell_type": "code",
   "execution_count": 152,
   "metadata": {},
   "outputs": [],
   "source": [
    "def get_preferes_series_from_meds(large_meds_dict):\n",
    "    renconcile_dict={}\n",
    "    for typedata in large_meds_dict.keys():\n",
    "        renconcile_dict[str(typedata)]={}\n",
    "        for medicine in large_meds_dict[typedata].keys():\n",
    "            data_united_df=pd.DataFrame()\n",
    "            for dbsource in ['cordaid','pnls']:\n",
    "                df_agg=large_meds_dict[typedata][medicine][dbsource]\n",
    "                df_agg['source']=str(dbsource)\n",
    "                data_united_df=data_united_df.append(df_agg)\n",
    "    \n",
    "\n",
    "            reconcile_element_df=data_united_df.groupby(by=['orgUnit']).apply(reconcilegroupby).reset_index(drop=True)\n",
    "            renconcile_dict[str(typedata)].update({str(medicine):reconcile_element_df})\n",
    "            \n",
    "    return renconcile_dict"
   ]
  },
  {
   "cell_type": "code",
   "execution_count": 155,
   "metadata": {},
   "outputs": [
    {
     "name": "stdout",
     "output_type": "stream",
     "text": [
      "Wall time: 10min 47s\n"
     ]
    }
   ],
   "source": [
    "%%time\n",
    "renconcile_dict_meds=get_preferes_series_from_meds(large_meds_dict)"
   ]
  },
  {
   "cell_type": "code",
   "execution_count": 165,
   "metadata": {},
   "outputs": [],
   "source": [
    "renconcile_dict_transpose={}\n",
    "\n",
    "for medicine in renconcile_dict_meds['SO'].keys():\n",
    "    df_list=[]\n",
    "    for typedata in renconcile_dict_meds.keys():\n",
    "        df_row=renconcile_dict_meds[typedata][medicine][['monthly','orgUnit','value']]\n",
    "        df_row=df_row.rename(index=str, columns={'value':str(typedata),'orgUnit':'uidorgunit'})\n",
    "        df_list.append(df_row)\n",
    "    \n",
    "    unified_df=df_list[0]\n",
    "    for df_typedata in df_list[1:]:\n",
    "        unified_df=unified_df.merge(df_typedata,how='outer',on=['monthly','uidorgunit'])\n",
    "        \n",
    "    renconcile_dict_transpose[str(medicine)]=unified_df"
   ]
  },
  {
   "cell_type": "code",
   "execution_count": 302,
   "metadata": {},
   "outputs": [],
   "source": [
    "def mean_consumption_stockout(dict_df_med):\n",
    "    dict_of_processed_df_patients={}\n",
    "    for medicine in dict_df_med.keys():\n",
    "        med_df_processed=processing(datanames_list=['SO','RS','EN','SI'],dat_df=dict_df_med[str(medicine)])\n",
    "        \n",
    "        meancm_df=mean_consumation_adjusted(med_df_processed[['uidorgunit','enddate','SO','RS']],data_el=medicine)\n",
    "        combination_df=aggregation(datel_list=['EN','SI'],df_data=med_df_processed,method='combination',agg_period_type='monthly')\n",
    "    \n",
    "        stock_df=meancm_df.merge(combination_df,on=['uidorgunit','period'],how='outer')\n",
    "        stock_df=stock_df.merge(med_df_processed[['uidorgunit','monthly','RS']].rename(index=str, columns={'monthly':'period'}),on=['uidorgunit','period'],how='outer')\n",
    "    \n",
    "        stockout_df=stockout(stock_df,data_elem=str(medicine),type_period='monthly')\n",
    "            \n",
    "        dict_of_processed_df_patients[str(medicine)]={'AMC':meancm_df,'combination':combination_df,'stockout':stockout_df}\n",
    "        \n",
    "    return dict_of_processed_df_patients"
   ]
  },
  {
   "cell_type": "code",
   "execution_count": 334,
   "metadata": {},
   "outputs": [
    {
     "name": "stderr",
     "output_type": "stream",
     "text": [
      "C:/Users/Fernando-Bluesquare/Desktop/Data Science/data_pipelines-master/src\\processing\\data_aggregation_process.py:114: SettingWithCopyWarning: \n",
      "A value is trying to be set on a copy of a slice from a DataFrame.\n",
      "Try using .loc[row_indexer,col_indexer] = value instead\n",
      "\n",
      "See the caveats in the documentation: http://pandas.pydata.org/pandas-docs/stable/indexing.html#indexing-view-versus-copy\n",
      "  data['enddate']=data.monthly.apply(enddate_assignment)\n",
      "C:/Users/Fernando-Bluesquare/Desktop/Data Science/data_pipelines-master/src\\processing\\data_aggregation_process.py:116: SettingWithCopyWarning: \n",
      "A value is trying to be set on a copy of a slice from a DataFrame.\n",
      "Try using .loc[row_indexer,col_indexer] = value instead\n",
      "\n",
      "See the caveats in the documentation: http://pandas.pydata.org/pandas-docs/stable/indexing.html#indexing-view-versus-copy\n",
      "  data['quarterly']=data.enddate.apply(quarter_assignment)\n",
      "C:/Users/Fernando-Bluesquare/Desktop/Data Science/data_pipelines-master/src\\processing\\data_aggregation_process.py:117: SettingWithCopyWarning: \n",
      "A value is trying to be set on a copy of a slice from a DataFrame.\n",
      "Try using .loc[row_indexer,col_indexer] = value instead\n",
      "\n",
      "See the caveats in the documentation: http://pandas.pydata.org/pandas-docs/stable/indexing.html#indexing-view-versus-copy\n",
      "  data['yearly']=data.enddate.apply(year_assignment)\n",
      "C:/Users/Fernando-Bluesquare/Desktop/Data Science/data_pipelines-master/src\\processing\\data_aggregation_process.py:122: SettingWithCopyWarning: \n",
      "A value is trying to be set on a copy of a slice from a DataFrame.\n",
      "Try using .loc[row_indexer,col_indexer] = value instead\n",
      "\n",
      "See the caveats in the documentation: http://pandas.pydata.org/pandas-docs/stable/indexing.html#indexing-view-versus-copy\n",
      "  data[str(dataname)]=pd.to_numeric(data[str(dataname)],errors='ignore',downcast='integer')\n",
      "C:/Users/Fernando-Bluesquare/Desktop/Data Science/data_pipelines-master/src\\processing\\data_aggregation_process.py:254: RuntimeWarning: invalid value encountered in double_scalars\n",
      "  dfreturn={str(data_el)+'-Consommation moyenne ajustée':[conso_total_period/(numb_periods-(numb_jours_rupture/30.5))]}\n",
      "C:/Users/Fernando-Bluesquare/Desktop/Data Science/data_pipelines-master/src\\processing\\data_aggregation_process.py:254: RuntimeWarning: divide by zero encountered in double_scalars\n",
      "  dfreturn={str(data_el)+'-Consommation moyenne ajustée':[conso_total_period/(numb_periods-(numb_jours_rupture/30.5))]}\n"
     ]
    },
    {
     "name": "stdout",
     "output_type": "stream",
     "text": [
      "Wall time: 44min 33s\n"
     ]
    }
   ],
   "source": [
    "%%time\n",
    "dict_of_processed_df_patients=mean_consumption_stockout(renconcile_dict_transpose)"
   ]
  },
  {
   "cell_type": "code",
   "execution_count": null,
   "metadata": {},
   "outputs": [],
   "source": [
    "def mean_consumption_stockout(dict_df_med):\n",
    "    dict_of_processed_df_patients={}\n",
    "    for medicine in dict_df_med.keys():\n",
    "        med_df_processed=processing(datanames_list=['SO','RS','EN','SI'],dat_df=dict_df_med[str(medicine)])\n",
    "        \n",
    "        meancm_df=mean_consumation_adjusted(med_df_processed[['uidorgunit','enddate','SO','RS']],data_el=medicine)\n",
    "        combination_df=aggregation(datel_list=['EN','SI'],df_data=med_df_processed,method='combination',agg_period_type='monthly')\n",
    "    \n",
    "        stock_df=meancm_df.merge(combination_df,on=['uidorgunit','period'],how='outer')\n",
    "        stock_df=stock_df.merge(med_df_processed[['uidorgunit','monthly','RS']].rename(index=str, columns={'monthly':'period'}),on=['uidorgunit','period'],how='outer')\n",
    "    \n",
    "        stockout_df=stockout(stock_df,data_elem=str(medicine),type_period='monthly')\n",
    "            \n",
    "        dict_of_processed_df_patients[str(medicine)]={'AMC':meancm_df,'combination':combination_df,'stockout':stockout_df}\n",
    "        \n",
    "    return dict_of_processed_df_patients"
   ]
  },
  {
   "cell_type": "code",
   "execution_count": 379,
   "metadata": {},
   "outputs": [],
   "source": [
    "element_creation_df=data_element_creation_csv(dict_of_processed_df_patients)\n",
    "element_creation_df.to_csv('./data_element_creation_drugs.csv',index=False,encoding ='utf-8')"
   ]
  },
  {
   "cell_type": "code",
   "execution_count": 406,
   "metadata": {},
   "outputs": [
    {
     "name": "stdout",
     "output_type": "stream",
     "text": [
      "3TC 10 mg/ml solution orale - Fl. 240 mlAMC\n",
      "3TC 10 mg/ml solution orale - Fl. 240 mlcombination\n",
      "3TC 10 mg/ml solution orale - Fl. 240 mlstockout\n",
      "3TC 150 mg - 60 cesAMC\n",
      "3TC 150 mg - 60 cescombination\n",
      "3TC 150 mg - 60 cesstockout\n",
      "ABC 300 mg - 60 cesAMC\n",
      "ABC 300 mg - 60 cescombination\n",
      "ABC 300 mg - 60 cesstockout\n",
      "ABC/3TC ( 300/150 mg) - 60 cesAMC\n",
      "ABC/3TC ( 300/150 mg) - 60 cescombination\n",
      "ABC/3TC ( 300/150 mg) - 60 cesstockout\n",
      "ABC /3TC 60/30 mg disp. - 60cesAMC\n",
      "ABC /3TC 60/30 mg disp. - 60cescombination\n",
      "ABC /3TC 60/30 mg disp. - 60cesstockout\n",
      "ABC 60 mg disp - 60 cesAMC\n",
      "ABC 60 mg disp - 60 cescombination\n",
      "ABC 60 mg disp - 60 cesstockout\n",
      "AZT 300 mg - 60 cesAMC\n",
      "AZT 300 mg - 60 cescombination\n",
      "AZT 300 mg - 60 cesstockout\n",
      "AZT/3TC (300/150 mg) - 60 cesAMC\n",
      "AZT/3TC (300/150 mg) - 60 cescombination\n",
      "AZT/3TC (300/150 mg) - 60 cesstockout\n",
      "AZT/3TC 60/30 mg ces disp - 60cesAMC\n",
      "AZT/3TC 60/30 mg ces disp - 60cescombination\n",
      "AZT/3TC 60/30 mg ces disp - 60cesstockout\n",
      "AZT/3TC/NVP (300/150/200 mg) - 60 cesAMC\n",
      "AZT/3TC/NVP (300/150/200 mg) - 60 cescombination\n",
      "AZT/3TC/NVP (300/150/200 mg) - 60 cesstockout\n",
      "AZT/3TC/NVP 60/30/50 mg ces disp - 60 cesAMC\n",
      "AZT/3TC/NVP 60/30/50 mg ces disp - 60 cescombination\n",
      "AZT/3TC/NVP 60/30/50 mg ces disp - 60 cesstockout\n",
      "EFV 600 mg - 30 cesAMC\n",
      "EFV 600 mg - 30 cescombination\n",
      "EFV 600 mg - 30 cesstockout\n",
      "LPV/r 100/25 mg ces - 60 cesAMC\n",
      "LPV/r 100/25 mg ces - 60 cescombination\n",
      "LPV/r 100/25 mg ces - 60 cesstockout\n",
      "LPV/r 80/20 mg/ml solution orale - Fl. 60 mlAMC\n",
      "LPV/r 80/20 mg/ml solution orale - Fl. 60 mlcombination\n",
      "LPV/r 80/20 mg/ml solution orale - Fl. 60 mlstockout\n",
      "LVP/r (133/33 mg) - 120 cesAMC\n",
      "LVP/r (133/33 mg) - 120 cescombination\n",
      "LVP/r (133/33 mg) - 120 cesstockout\n",
      "NVP 200 mg - 60 cesAMC\n",
      "NVP 200 mg - 60 cescombination\n",
      "NVP 200 mg - 60 cesstockout\n",
      "TDF 300 mg - 30 cesAMC\n",
      "TDF 300 mg - 30 cescombination\n",
      "TDF 300 mg - 30 cesstockout\n",
      "TDF/3TC (300/300 mg) - 30 CESAMC\n",
      "TDF/3TC (300/300 mg) - 30 CEScombination\n",
      "TDF/3TC (300/300 mg) - 30 CESstockout\n",
      "TDF/3TC/EFV (300/300/600 mg) - 30 cesAMC\n",
      "TDF/3TC/EFV (300/300/600 mg) - 30 cescombination\n",
      "TDF/3TC/EFV (300/300/600 mg) - 30 cesstockout\n",
      "LPV/r (200/50 mg) - 12O cesAMC\n",
      "LPV/r (200/50 mg) - 12O cescombination\n",
      "LPV/r (200/50 mg) - 12O cesstockout\n",
      "TDF/FTC (300/200 mg) - 30 cesAMC\n",
      "TDF/FTC (300/200 mg) - 30 cescombination\n",
      "TDF/FTC (300/200 mg) - 30 cesstockout\n",
      "NVP 50 mg ces pour solution orale - 60 CésAMC\n",
      "NVP 50 mg ces pour solution orale - 60 Céscombination\n",
      "NVP 50 mg ces pour solution orale - 60 Césstockout\n"
     ]
    }
   ],
   "source": [
    "hivdr = dhis.dhis_instance(dbname, user, host, psswrd)\n",
    "df_csv=output_csv(dict_of_processed_df_patients,hivdr)"
   ]
  }
 ],
 "metadata": {
  "kernelspec": {
   "display_name": "Python 3",
   "language": "python",
   "name": "python3"
  },
  "language_info": {
   "codemirror_mode": {
    "name": "ipython",
    "version": 3
   },
   "file_extension": ".py",
   "mimetype": "text/x-python",
   "name": "python",
   "nbconvert_exporter": "python",
   "pygments_lexer": "ipython3",
   "version": "3.7.0"
  }
 },
 "nbformat": 4,
 "nbformat_minor": 2
}
